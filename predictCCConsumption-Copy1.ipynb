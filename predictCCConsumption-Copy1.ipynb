{
 "cells": [
  {
   "cell_type": "markdown",
   "metadata": {},
   "source": [
    "Predict Credit Card Consumption\n",
    "\n",
    "Understanding the consumption pattern for credit cards at an individual consumer level is important for customer relationship management. This understanding allows banks to customize for consumers and make strategic marketing plans. Thus it is imperative to study the relationship between the characteristics of the consumers and their consumption patterns.   XYZ Bank has given a sample of their customers, along with their details like age, gender and other demographics. Also shared are information on liabilities, assets and history of transactions with the bank for each customer.   In addition to the above, data has been provided for a particular set of customers' credit card spend in the previous 3 months (April, May & June) and their expected average spend in the coming 3 months (July, August & September). Predict the average spend for a different set of customers in the test set for the coming 3 months.  "
   ]
  },
  {
   "cell_type": "markdown",
   "metadata": {},
   "source": [
    "Evaluation Criteria\n",
    "\n",
    "The average predicted spend of customers for the next three months would be evaluated using 100*RMSLE where RMSLE is Root of Mean Squared Logarithmic Error  \n"
   ]
  },
  {
   "cell_type": "markdown",
   "metadata": {},
   "source": [
    "Importing the required packages\n"
   ]
  },
  {
   "cell_type": "code",
   "execution_count": 2,
   "metadata": {},
   "outputs": [],
   "source": [
    "import numpy as np\n",
    "import pandas as pd\n",
    "import matplotlib.pyplot as plt\n",
    "%matplotlib inline\n",
    "import seaborn as sns\n",
    "from sklearn.preprocessing import LabelEncoder\n",
    "from sklearn.preprocessing import StandardScaler\n",
    "from sklearn.model_selection import train_test_split\n",
    "from sklearn.metrics import mean_squared_log_error\n",
    "from sklearn.feature_selection import SelectKBest\n",
    "from sklearn.feature_selection import chi2"
   ]
  },
  {
   "cell_type": "code",
   "execution_count": 3,
   "metadata": {},
   "outputs": [],
   "source": [
    "train_data_orig = pd.read_csv('C:/Python/AmExpert/data/train.csv')\n",
    "test_data_orig = pd.read_csv(\"C:/Python/AmExpert/data/test.csv\")"
   ]
  },
  {
   "cell_type": "code",
   "execution_count": 4,
   "metadata": {},
   "outputs": [
    {
     "name": "stdout",
     "output_type": "stream",
     "text": [
      "(32820, 44)\n"
     ]
    }
   ],
   "source": [
    "print(train_data_orig.shape)"
   ]
  },
  {
   "cell_type": "code",
   "execution_count": 5,
   "metadata": {},
   "outputs": [
    {
     "name": "stdout",
     "output_type": "stream",
     "text": [
      "(14067, 43)\n"
     ]
    }
   ],
   "source": [
    "print(test_data_orig.shape)"
   ]
  },
  {
   "cell_type": "code",
   "execution_count": 6,
   "metadata": {},
   "outputs": [
    {
     "name": "stdout",
     "output_type": "stream",
     "text": [
      "<class 'pandas.core.frame.DataFrame'>\n",
      "RangeIndex: 32820 entries, 0 to 32819\n",
      "Data columns (total 44 columns):\n",
      "id                       32820 non-null int64\n",
      "account_type             32820 non-null object\n",
      "gender                   32820 non-null object\n",
      "age                      32820 non-null int64\n",
      "region_code              32820 non-null int64\n",
      "cc_cons_apr              32820 non-null float64\n",
      "dc_cons_apr              13768 non-null float64\n",
      "cc_cons_may              32820 non-null float64\n",
      "dc_cons_may              15481 non-null float64\n",
      "cc_cons_jun              32820 non-null float64\n",
      "dc_cons_jun              11523 non-null float64\n",
      "cc_count_apr             30421 non-null float64\n",
      "cc_count_may             31667 non-null float64\n",
      "cc_count_jun             31230 non-null float64\n",
      "dc_count_apr             13768 non-null float64\n",
      "dc_count_may             15481 non-null float64\n",
      "dc_count_jun             17323 non-null float64\n",
      "card_lim                 32811 non-null float64\n",
      "personal_loan_active     2742 non-null float64\n",
      "vehicle_loan_active      846 non-null float64\n",
      "personal_loan_closed     2883 non-null float64\n",
      "vehicle_loan_closed      1625 non-null float64\n",
      "investment_1             1426 non-null float64\n",
      "investment_2             2338 non-null float64\n",
      "investment_3             1332 non-null float64\n",
      "investment_4             406 non-null float64\n",
      "debit_amount_apr         30930 non-null float64\n",
      "credit_amount_apr        29518 non-null float64\n",
      "debit_count_apr          31062 non-null float64\n",
      "credit_count_apr         31062 non-null float64\n",
      "max_credit_amount_apr    29518 non-null float64\n",
      "debit_amount_may         30519 non-null float64\n",
      "credit_amount_may        29415 non-null float64\n",
      "credit_count_may         30749 non-null float64\n",
      "debit_count_may          30749 non-null float64\n",
      "max_credit_amount_may    29415 non-null float64\n",
      "debit_amount_jun         30625 non-null float64\n",
      "credit_amount_jun        31277 non-null float64\n",
      "credit_count_jun         31292 non-null float64\n",
      "debit_count_jun          31292 non-null float64\n",
      "max_credit_amount_jun    31277 non-null float64\n",
      "loan_enq                 609 non-null object\n",
      "emi_active               32820 non-null float64\n",
      "cc_cons                  32820 non-null int64\n",
      "dtypes: float64(37), int64(4), object(3)\n",
      "memory usage: 11.0+ MB\n"
     ]
    }
   ],
   "source": [
    "train_data_orig.info()"
   ]
  },
  {
   "cell_type": "markdown",
   "metadata": {},
   "source": [
    "We have three categorical data rows, account_type,gender and loan_enq that needs to be changed"
   ]
  },
  {
   "cell_type": "code",
   "execution_count": 7,
   "metadata": {},
   "outputs": [
    {
     "data": {
      "text/html": [
       "<div>\n",
       "<style scoped>\n",
       "    .dataframe tbody tr th:only-of-type {\n",
       "        vertical-align: middle;\n",
       "    }\n",
       "\n",
       "    .dataframe tbody tr th {\n",
       "        vertical-align: top;\n",
       "    }\n",
       "\n",
       "    .dataframe thead th {\n",
       "        text-align: right;\n",
       "    }\n",
       "</style>\n",
       "<table border=\"1\" class=\"dataframe\">\n",
       "  <thead>\n",
       "    <tr style=\"text-align: right;\">\n",
       "      <th></th>\n",
       "      <th>id</th>\n",
       "      <th>account_type</th>\n",
       "      <th>gender</th>\n",
       "      <th>age</th>\n",
       "      <th>region_code</th>\n",
       "      <th>cc_cons_apr</th>\n",
       "      <th>dc_cons_apr</th>\n",
       "      <th>cc_cons_may</th>\n",
       "      <th>dc_cons_may</th>\n",
       "      <th>cc_cons_jun</th>\n",
       "      <th>...</th>\n",
       "      <th>debit_count_may</th>\n",
       "      <th>max_credit_amount_may</th>\n",
       "      <th>debit_amount_jun</th>\n",
       "      <th>credit_amount_jun</th>\n",
       "      <th>credit_count_jun</th>\n",
       "      <th>debit_count_jun</th>\n",
       "      <th>max_credit_amount_jun</th>\n",
       "      <th>loan_enq</th>\n",
       "      <th>emi_active</th>\n",
       "      <th>cc_cons</th>\n",
       "    </tr>\n",
       "  </thead>\n",
       "  <tbody>\n",
       "    <tr>\n",
       "      <th>0</th>\n",
       "      <td>23334</td>\n",
       "      <td>saving</td>\n",
       "      <td>M</td>\n",
       "      <td>63</td>\n",
       "      <td>305</td>\n",
       "      <td>7695.00</td>\n",
       "      <td>NaN</td>\n",
       "      <td>479.00</td>\n",
       "      <td>NaN</td>\n",
       "      <td>622.0</td>\n",
       "      <td>...</td>\n",
       "      <td>2.0</td>\n",
       "      <td>45000.0</td>\n",
       "      <td>20215.85</td>\n",
       "      <td>1279.37</td>\n",
       "      <td>7.0</td>\n",
       "      <td>3.0</td>\n",
       "      <td>470.0</td>\n",
       "      <td>NaN</td>\n",
       "      <td>0.00</td>\n",
       "      <td>435</td>\n",
       "    </tr>\n",
       "    <tr>\n",
       "      <th>1</th>\n",
       "      <td>20329</td>\n",
       "      <td>current</td>\n",
       "      <td>M</td>\n",
       "      <td>33</td>\n",
       "      <td>326</td>\n",
       "      <td>52702.00</td>\n",
       "      <td>988.72</td>\n",
       "      <td>29873.00</td>\n",
       "      <td>NaN</td>\n",
       "      <td>1087.0</td>\n",
       "      <td>...</td>\n",
       "      <td>10.0</td>\n",
       "      <td>150000.0</td>\n",
       "      <td>122037.66</td>\n",
       "      <td>55390.00</td>\n",
       "      <td>8.0</td>\n",
       "      <td>19.0</td>\n",
       "      <td>27000.0</td>\n",
       "      <td>NaN</td>\n",
       "      <td>4963.33</td>\n",
       "      <td>1921</td>\n",
       "    </tr>\n",
       "    <tr>\n",
       "      <th>2</th>\n",
       "      <td>17679</td>\n",
       "      <td>current</td>\n",
       "      <td>M</td>\n",
       "      <td>44</td>\n",
       "      <td>264</td>\n",
       "      <td>10800.49</td>\n",
       "      <td>3215.52</td>\n",
       "      <td>21659.64</td>\n",
       "      <td>1607.0</td>\n",
       "      <td>1168.0</td>\n",
       "      <td>...</td>\n",
       "      <td>7.0</td>\n",
       "      <td>13800.0</td>\n",
       "      <td>46827.00</td>\n",
       "      <td>29297.91</td>\n",
       "      <td>6.0</td>\n",
       "      <td>19.0</td>\n",
       "      <td>20800.0</td>\n",
       "      <td>NaN</td>\n",
       "      <td>0.00</td>\n",
       "      <td>1970</td>\n",
       "    </tr>\n",
       "    <tr>\n",
       "      <th>3</th>\n",
       "      <td>16428</td>\n",
       "      <td>saving</td>\n",
       "      <td>M</td>\n",
       "      <td>44</td>\n",
       "      <td>233</td>\n",
       "      <td>20936.00</td>\n",
       "      <td>NaN</td>\n",
       "      <td>2094.00</td>\n",
       "      <td>NaN</td>\n",
       "      <td>11778.5</td>\n",
       "      <td>...</td>\n",
       "      <td>1.0</td>\n",
       "      <td>19300.0</td>\n",
       "      <td>5426.55</td>\n",
       "      <td>7544.00</td>\n",
       "      <td>3.0</td>\n",
       "      <td>1.0</td>\n",
       "      <td>5300.0</td>\n",
       "      <td>NaN</td>\n",
       "      <td>1238.18</td>\n",
       "      <td>21579</td>\n",
       "    </tr>\n",
       "    <tr>\n",
       "      <th>4</th>\n",
       "      <td>18721</td>\n",
       "      <td>saving</td>\n",
       "      <td>F</td>\n",
       "      <td>35</td>\n",
       "      <td>324</td>\n",
       "      <td>1183.83</td>\n",
       "      <td>NaN</td>\n",
       "      <td>3656.29</td>\n",
       "      <td>NaN</td>\n",
       "      <td>945.0</td>\n",
       "      <td>...</td>\n",
       "      <td>3.0</td>\n",
       "      <td>3000.0</td>\n",
       "      <td>26178.05</td>\n",
       "      <td>53483.00</td>\n",
       "      <td>4.0</td>\n",
       "      <td>4.0</td>\n",
       "      <td>45000.0</td>\n",
       "      <td>NaN</td>\n",
       "      <td>0.00</td>\n",
       "      <td>1814</td>\n",
       "    </tr>\n",
       "  </tbody>\n",
       "</table>\n",
       "<p>5 rows × 44 columns</p>\n",
       "</div>"
      ],
      "text/plain": [
       "      id account_type gender  age  region_code  cc_cons_apr  dc_cons_apr  \\\n",
       "0  23334       saving      M   63          305      7695.00          NaN   \n",
       "1  20329      current      M   33          326     52702.00       988.72   \n",
       "2  17679      current      M   44          264     10800.49      3215.52   \n",
       "3  16428       saving      M   44          233     20936.00          NaN   \n",
       "4  18721       saving      F   35          324      1183.83          NaN   \n",
       "\n",
       "   cc_cons_may  dc_cons_may  cc_cons_jun  ...  debit_count_may  \\\n",
       "0       479.00          NaN        622.0  ...              2.0   \n",
       "1     29873.00          NaN       1087.0  ...             10.0   \n",
       "2     21659.64       1607.0       1168.0  ...              7.0   \n",
       "3      2094.00          NaN      11778.5  ...              1.0   \n",
       "4      3656.29          NaN        945.0  ...              3.0   \n",
       "\n",
       "   max_credit_amount_may  debit_amount_jun  credit_amount_jun  \\\n",
       "0                45000.0          20215.85            1279.37   \n",
       "1               150000.0         122037.66           55390.00   \n",
       "2                13800.0          46827.00           29297.91   \n",
       "3                19300.0           5426.55            7544.00   \n",
       "4                 3000.0          26178.05           53483.00   \n",
       "\n",
       "   credit_count_jun  debit_count_jun  max_credit_amount_jun  loan_enq  \\\n",
       "0               7.0              3.0                  470.0       NaN   \n",
       "1               8.0             19.0                27000.0       NaN   \n",
       "2               6.0             19.0                20800.0       NaN   \n",
       "3               3.0              1.0                 5300.0       NaN   \n",
       "4               4.0              4.0                45000.0       NaN   \n",
       "\n",
       "   emi_active  cc_cons  \n",
       "0        0.00      435  \n",
       "1     4963.33     1921  \n",
       "2        0.00     1970  \n",
       "3     1238.18    21579  \n",
       "4        0.00     1814  \n",
       "\n",
       "[5 rows x 44 columns]"
      ]
     },
     "execution_count": 7,
     "metadata": {},
     "output_type": "execute_result"
    }
   ],
   "source": [
    "train_data_orig.head()"
   ]
  },
  {
   "cell_type": "markdown",
   "metadata": {},
   "source": [
    "Combine train and test data to perform EDA"
   ]
  },
  {
   "cell_type": "code",
   "execution_count": 8,
   "metadata": {},
   "outputs": [],
   "source": [
    "data = train_data_orig.append(test_data_orig,ignore_index=True,sort=True)"
   ]
  },
  {
   "cell_type": "code",
   "execution_count": 9,
   "metadata": {},
   "outputs": [
    {
     "name": "stdout",
     "output_type": "stream",
     "text": [
      "(46887, 44)\n"
     ]
    }
   ],
   "source": [
    "print(data.shape)"
   ]
  },
  {
   "cell_type": "code",
   "execution_count": null,
   "metadata": {},
   "outputs": [],
   "source": []
  },
  {
   "cell_type": "code",
   "execution_count": 10,
   "metadata": {},
   "outputs": [
    {
     "data": {
      "text/plain": [
       "account_type                 0\n",
       "age                          0\n",
       "card_lim                    12\n",
       "cc_cons                  14067\n",
       "cc_cons_apr                  0\n",
       "cc_cons_jun                  0\n",
       "cc_cons_may                  0\n",
       "cc_count_apr              3437\n",
       "cc_count_jun              2224\n",
       "cc_count_may              1695\n",
       "credit_amount_apr         4767\n",
       "credit_amount_jun         2206\n",
       "credit_amount_may         4900\n",
       "credit_count_apr          2546\n",
       "credit_count_jun          2183\n",
       "credit_count_may          2968\n",
       "dc_cons_apr              27282\n",
       "dc_cons_jun              30361\n",
       "dc_cons_may              24714\n",
       "dc_count_apr             27282\n",
       "dc_count_jun             22049\n",
       "dc_count_may             24714\n",
       "debit_amount_apr          2737\n",
       "debit_amount_jun          3140\n",
       "debit_amount_may          3302\n",
       "debit_count_apr           2546\n",
       "debit_count_jun           2183\n",
       "debit_count_may           2968\n",
       "emi_active                   0\n",
       "gender                       0\n",
       "id                           0\n",
       "investment_1             44811\n",
       "investment_2             43522\n",
       "investment_3             44941\n",
       "investment_4             46308\n",
       "loan_enq                 46032\n",
       "max_credit_amount_apr     4767\n",
       "max_credit_amount_jun     2206\n",
       "max_credit_amount_may     4900\n",
       "personal_loan_active     43011\n",
       "personal_loan_closed     42745\n",
       "region_code                  0\n",
       "vehicle_loan_active      45686\n",
       "vehicle_loan_closed      44581\n",
       "dtype: int64"
      ]
     },
     "execution_count": 10,
     "metadata": {},
     "output_type": "execute_result"
    }
   ],
   "source": [
    "data.isnull().sum()"
   ]
  },
  {
   "cell_type": "code",
   "execution_count": null,
   "metadata": {},
   "outputs": [],
   "source": []
  },
  {
   "cell_type": "code",
   "execution_count": 11,
   "metadata": {},
   "outputs": [],
   "source": [
    "from scipy.stats import norm"
   ]
  },
  {
   "cell_type": "markdown",
   "metadata": {},
   "source": [
    "Target variable cc_cons is a continous variable and hence plot the data to check out how normally distributed it is"
   ]
  },
  {
   "cell_type": "code",
   "execution_count": 12,
   "metadata": {},
   "outputs": [
    {
     "data": {
      "text/plain": [
       "<matplotlib.axes._subplots.AxesSubplot at 0x19774c86470>"
      ]
     },
     "execution_count": 12,
     "metadata": {},
     "output_type": "execute_result"
    },
    {
     "data": {
      "image/png": "[encoded data removed]",
      "text/plain": [
       "<Figure size 432x288 with 1 Axes>"
      ]
     },
     "metadata": {
      "needs_background": "light"
     },
     "output_type": "display_data"
    }
   ],
   "source": [
    "sns.distplot(train_data_orig['cc_cons'],fit= norm)\n"
   ]
  },
  {
   "cell_type": "code",
   "execution_count": 13,
   "metadata": {},
   "outputs": [],
   "source": [
    "#Get the params of the normal distribution\n",
    "(mu,sigma) = norm.fit(train_data_orig['cc_cons'])"
   ]
  },
  {
   "cell_type": "code",
   "execution_count": 14,
   "metadata": {},
   "outputs": [
    {
     "name": "stdout",
     "output_type": "stream",
     "text": [
      " Mean= 6824.631840341255 and Standard Deviation= 12458.950780887968\n"
     ]
    }
   ],
   "source": [
    "print(f' Mean= {mu} and Standard Deviation= {sigma}')"
   ]
  },
  {
   "cell_type": "code",
   "execution_count": 15,
   "metadata": {},
   "outputs": [],
   "source": [
    "log_cc = np.log1p(train_data_orig['cc_cons'])"
   ]
  },
  {
   "cell_type": "code",
   "execution_count": 16,
   "metadata": {},
   "outputs": [
    {
     "data": {
      "text/plain": [
       "<matplotlib.axes._subplots.AxesSubplot at 0x19774fa5e80>"
      ]
     },
     "execution_count": 16,
     "metadata": {},
     "output_type": "execute_result"
    },
    {
     "data": {
      "image/png": "[encoded data removed]",
      "text/plain": [
       "<Figure size 432x288 with 1 Axes>"
      ]
     },
     "metadata": {
      "needs_background": "light"
     },
     "output_type": "display_data"
    }
   ],
   "source": [
    "sns.distplot(log_cc,fit= norm)"
   ]
  },
  {
   "cell_type": "code",
   "execution_count": 17,
   "metadata": {},
   "outputs": [
    {
     "name": "stdout",
     "output_type": "stream",
     "text": [
      " Mean= 8.019917130836976 and Standard Deviation= 1.3112754881082243\n"
     ]
    }
   ],
   "source": [
    "#Get the params of the log  normal distribution\n",
    "(mu1,sigma1) = norm.fit(log_cc)\n",
    "print(f' Mean= {mu1} and Standard Deviation= {sigma1}')"
   ]
  },
  {
   "cell_type": "code",
   "execution_count": 18,
   "metadata": {},
   "outputs": [],
   "source": [
    "#Taking Log values for all credit card consumption values\n",
    "data['cc_cons'] = np.log1p(data['cc_cons'])\n",
    "data['cc_cons_apr'] = np.log1p(data['cc_cons_apr'])\n",
    "data['cc_cons_may'] = np.log1p(data['cc_cons_may'])\n",
    "data['cc_cons_jun'] = np.log1p(data['cc_cons_jun'])"
   ]
  },
  {
   "cell_type": "code",
   "execution_count": 19,
   "metadata": {},
   "outputs": [
    {
     "data": {
      "text/html": [
       "<div>\n",
       "<style scoped>\n",
       "    .dataframe tbody tr th:only-of-type {\n",
       "        vertical-align: middle;\n",
       "    }\n",
       "\n",
       "    .dataframe tbody tr th {\n",
       "        vertical-align: top;\n",
       "    }\n",
       "\n",
       "    .dataframe thead th {\n",
       "        text-align: right;\n",
       "    }\n",
       "</style>\n",
       "<table border=\"1\" class=\"dataframe\">\n",
       "  <thead>\n",
       "    <tr style=\"text-align: right;\">\n",
       "      <th></th>\n",
       "      <th>age</th>\n",
       "      <th>card_lim</th>\n",
       "      <th>cc_cons</th>\n",
       "      <th>cc_cons_apr</th>\n",
       "      <th>cc_cons_jun</th>\n",
       "      <th>cc_cons_may</th>\n",
       "      <th>cc_count_apr</th>\n",
       "      <th>cc_count_jun</th>\n",
       "      <th>cc_count_may</th>\n",
       "      <th>credit_amount_apr</th>\n",
       "      <th>...</th>\n",
       "      <th>investment_3</th>\n",
       "      <th>investment_4</th>\n",
       "      <th>max_credit_amount_apr</th>\n",
       "      <th>max_credit_amount_jun</th>\n",
       "      <th>max_credit_amount_may</th>\n",
       "      <th>personal_loan_active</th>\n",
       "      <th>personal_loan_closed</th>\n",
       "      <th>region_code</th>\n",
       "      <th>vehicle_loan_active</th>\n",
       "      <th>vehicle_loan_closed</th>\n",
       "    </tr>\n",
       "  </thead>\n",
       "  <tbody>\n",
       "    <tr>\n",
       "      <th>count</th>\n",
       "      <td>46887.000000</td>\n",
       "      <td>4.687500e+04</td>\n",
       "      <td>32820.000000</td>\n",
       "      <td>46887.000000</td>\n",
       "      <td>46887.000000</td>\n",
       "      <td>46887.000000</td>\n",
       "      <td>43450.000000</td>\n",
       "      <td>44663.000000</td>\n",
       "      <td>45192.000000</td>\n",
       "      <td>4.212000e+04</td>\n",
       "      <td>...</td>\n",
       "      <td>1.946000e+03</td>\n",
       "      <td>579.000000</td>\n",
       "      <td>4.212000e+04</td>\n",
       "      <td>4.468100e+04</td>\n",
       "      <td>4.198700e+04</td>\n",
       "      <td>3876.0</td>\n",
       "      <td>4142.0</td>\n",
       "      <td>46887.000000</td>\n",
       "      <td>1201.0</td>\n",
       "      <td>2306.0</td>\n",
       "    </tr>\n",
       "    <tr>\n",
       "      <th>mean</th>\n",
       "      <td>35.945678</td>\n",
       "      <td>1.214109e+05</td>\n",
       "      <td>8.019917</td>\n",
       "      <td>9.048571</td>\n",
       "      <td>8.307646</td>\n",
       "      <td>8.853131</td>\n",
       "      <td>9.165386</td>\n",
       "      <td>12.324362</td>\n",
       "      <td>9.549522</td>\n",
       "      <td>7.499329e+04</td>\n",
       "      <td>...</td>\n",
       "      <td>4.133151e+04</td>\n",
       "      <td>4757.864336</td>\n",
       "      <td>4.605661e+04</td>\n",
       "      <td>4.401207e+04</td>\n",
       "      <td>4.930503e+04</td>\n",
       "      <td>1.0</td>\n",
       "      <td>1.0</td>\n",
       "      <td>555.055751</td>\n",
       "      <td>1.0</td>\n",
       "      <td>1.0</td>\n",
       "    </tr>\n",
       "    <tr>\n",
       "      <th>std</th>\n",
       "      <td>8.434601</td>\n",
       "      <td>1.229824e+05</td>\n",
       "      <td>1.311295</td>\n",
       "      <td>1.188048</td>\n",
       "      <td>1.275239</td>\n",
       "      <td>1.233586</td>\n",
       "      <td>10.184364</td>\n",
       "      <td>11.549236</td>\n",
       "      <td>9.465068</td>\n",
       "      <td>1.658658e+05</td>\n",
       "      <td>...</td>\n",
       "      <td>1.077728e+05</td>\n",
       "      <td>6125.215059</td>\n",
       "      <td>1.069466e+05</td>\n",
       "      <td>1.071309e+05</td>\n",
       "      <td>1.200914e+05</td>\n",
       "      <td>0.0</td>\n",
       "      <td>0.0</td>\n",
       "      <td>188.289092</td>\n",
       "      <td>0.0</td>\n",
       "      <td>0.0</td>\n",
       "    </tr>\n",
       "    <tr>\n",
       "      <th>min</th>\n",
       "      <td>22.000000</td>\n",
       "      <td>0.000000e+00</td>\n",
       "      <td>0.000000</td>\n",
       "      <td>5.459458</td>\n",
       "      <td>3.951244</td>\n",
       "      <td>4.644391</td>\n",
       "      <td>1.000000</td>\n",
       "      <td>1.000000</td>\n",
       "      <td>1.000000</td>\n",
       "      <td>2.400000e+01</td>\n",
       "      <td>...</td>\n",
       "      <td>0.000000e+00</td>\n",
       "      <td>-20217.000000</td>\n",
       "      <td>1.800000e-01</td>\n",
       "      <td>6.000000e-02</td>\n",
       "      <td>1.500000e-01</td>\n",
       "      <td>1.0</td>\n",
       "      <td>1.0</td>\n",
       "      <td>123.000000</td>\n",
       "      <td>1.0</td>\n",
       "      <td>1.0</td>\n",
       "    </tr>\n",
       "    <tr>\n",
       "      <th>25%</th>\n",
       "      <td>31.000000</td>\n",
       "      <td>4.500000e+04</td>\n",
       "      <td>7.159292</td>\n",
       "      <td>8.213653</td>\n",
       "      <td>7.394681</td>\n",
       "      <td>7.996921</td>\n",
       "      <td>3.000000</td>\n",
       "      <td>4.000000</td>\n",
       "      <td>3.000000</td>\n",
       "      <td>2.538712e+04</td>\n",
       "      <td>...</td>\n",
       "      <td>6.000000e+03</td>\n",
       "      <td>909.000000</td>\n",
       "      <td>1.800000e+04</td>\n",
       "      <td>1.608900e+04</td>\n",
       "      <td>1.826350e+04</td>\n",
       "      <td>1.0</td>\n",
       "      <td>1.0</td>\n",
       "      <td>425.000000</td>\n",
       "      <td>1.0</td>\n",
       "      <td>1.0</td>\n",
       "    </tr>\n",
       "    <tr>\n",
       "      <th>50%</th>\n",
       "      <td>34.000000</td>\n",
       "      <td>7.500000e+04</td>\n",
       "      <td>8.052615</td>\n",
       "      <td>9.093638</td>\n",
       "      <td>8.321178</td>\n",
       "      <td>8.900822</td>\n",
       "      <td>7.000000</td>\n",
       "      <td>9.000000</td>\n",
       "      <td>7.000000</td>\n",
       "      <td>4.403300e+04</td>\n",
       "      <td>...</td>\n",
       "      <td>2.500000e+04</td>\n",
       "      <td>4889.000000</td>\n",
       "      <td>2.816000e+04</td>\n",
       "      <td>2.700000e+04</td>\n",
       "      <td>3.000000e+04</td>\n",
       "      <td>1.0</td>\n",
       "      <td>1.0</td>\n",
       "      <td>575.000000</td>\n",
       "      <td>1.0</td>\n",
       "      <td>1.0</td>\n",
       "    </tr>\n",
       "    <tr>\n",
       "      <th>75%</th>\n",
       "      <td>39.000000</td>\n",
       "      <td>1.450000e+05</td>\n",
       "      <td>8.902490</td>\n",
       "      <td>9.899577</td>\n",
       "      <td>9.211694</td>\n",
       "      <td>9.729478</td>\n",
       "      <td>12.000000</td>\n",
       "      <td>17.000000</td>\n",
       "      <td>13.000000</td>\n",
       "      <td>7.920906e+04</td>\n",
       "      <td>...</td>\n",
       "      <td>5.000000e+04</td>\n",
       "      <td>6885.000000</td>\n",
       "      <td>4.800000e+04</td>\n",
       "      <td>4.738600e+04</td>\n",
       "      <td>5.000000e+04</td>\n",
       "      <td>1.0</td>\n",
       "      <td>1.0</td>\n",
       "      <td>683.000000</td>\n",
       "      <td>1.0</td>\n",
       "      <td>1.0</td>\n",
       "    </tr>\n",
       "    <tr>\n",
       "      <th>max</th>\n",
       "      <td>224.000000</td>\n",
       "      <td>1.350000e+06</td>\n",
       "      <td>12.920568</td>\n",
       "      <td>13.598242</td>\n",
       "      <td>12.970432</td>\n",
       "      <td>13.926378</td>\n",
       "      <td>1012.000000</td>\n",
       "      <td>653.000000</td>\n",
       "      <td>601.000000</td>\n",
       "      <td>1.310058e+07</td>\n",
       "      <td>...</td>\n",
       "      <td>2.500000e+06</td>\n",
       "      <td>35346.000000</td>\n",
       "      <td>1.202915e+07</td>\n",
       "      <td>1.293238e+07</td>\n",
       "      <td>1.285103e+07</td>\n",
       "      <td>1.0</td>\n",
       "      <td>1.0</td>\n",
       "      <td>978.000000</td>\n",
       "      <td>1.0</td>\n",
       "      <td>1.0</td>\n",
       "    </tr>\n",
       "  </tbody>\n",
       "</table>\n",
       "<p>8 rows × 41 columns</p>\n",
       "</div>"
      ],
      "text/plain": [
       "                age      card_lim       cc_cons   cc_cons_apr   cc_cons_jun  \\\n",
       "count  46887.000000  4.687500e+04  32820.000000  46887.000000  46887.000000   \n",
       "mean      35.945678  1.214109e+05      8.019917      9.048571      8.307646   \n",
       "std        8.434601  1.229824e+05      1.311295      1.188048      1.275239   \n",
       "min       22.000000  0.000000e+00      0.000000      5.459458      3.951244   \n",
       "25%       31.000000  4.500000e+04      7.159292      8.213653      7.394681   \n",
       "50%       34.000000  7.500000e+04      8.052615      9.093638      8.321178   \n",
       "75%       39.000000  1.450000e+05      8.902490      9.899577      9.211694   \n",
       "max      224.000000  1.350000e+06     12.920568     13.598242     12.970432   \n",
       "\n",
       "        cc_cons_may  cc_count_apr  cc_count_jun  cc_count_may  \\\n",
       "count  46887.000000  43450.000000  44663.000000  45192.000000   \n",
       "mean       8.853131      9.165386     12.324362      9.549522   \n",
       "std        1.233586     10.184364     11.549236      9.465068   \n",
       "min        4.644391      1.000000      1.000000      1.000000   \n",
       "25%        7.996921      3.000000      4.000000      3.000000   \n",
       "50%        8.900822      7.000000      9.000000      7.000000   \n",
       "75%        9.729478     12.000000     17.000000     13.000000   \n",
       "max       13.926378   1012.000000    653.000000    601.000000   \n",
       "\n",
       "       credit_amount_apr  ...  investment_3  investment_4  \\\n",
       "count       4.212000e+04  ...  1.946000e+03    579.000000   \n",
       "mean        7.499329e+04  ...  4.133151e+04   4757.864336   \n",
       "std         1.658658e+05  ...  1.077728e+05   6125.215059   \n",
       "min         2.400000e+01  ...  0.000000e+00 -20217.000000   \n",
       "25%         2.538712e+04  ...  6.000000e+03    909.000000   \n",
       "50%         4.403300e+04  ...  2.500000e+04   4889.000000   \n",
       "75%         7.920906e+04  ...  5.000000e+04   6885.000000   \n",
       "max         1.310058e+07  ...  2.500000e+06  35346.000000   \n",
       "\n",
       "       max_credit_amount_apr  max_credit_amount_jun  max_credit_amount_may  \\\n",
       "count           4.212000e+04           4.468100e+04           4.198700e+04   \n",
       "mean            4.605661e+04           4.401207e+04           4.930503e+04   \n",
       "std             1.069466e+05           1.071309e+05           1.200914e+05   \n",
       "min             1.800000e-01           6.000000e-02           1.500000e-01   \n",
       "25%             1.800000e+04           1.608900e+04           1.826350e+04   \n",
       "50%             2.816000e+04           2.700000e+04           3.000000e+04   \n",
       "75%             4.800000e+04           4.738600e+04           5.000000e+04   \n",
       "max             1.202915e+07           1.293238e+07           1.285103e+07   \n",
       "\n",
       "       personal_loan_active  personal_loan_closed   region_code  \\\n",
       "count                3876.0                4142.0  46887.000000   \n",
       "mean                    1.0                   1.0    555.055751   \n",
       "std                     0.0                   0.0    188.289092   \n",
       "min                     1.0                   1.0    123.000000   \n",
       "25%                     1.0                   1.0    425.000000   \n",
       "50%                     1.0                   1.0    575.000000   \n",
       "75%                     1.0                   1.0    683.000000   \n",
       "max                     1.0                   1.0    978.000000   \n",
       "\n",
       "       vehicle_loan_active  vehicle_loan_closed  \n",
       "count               1201.0               2306.0  \n",
       "mean                   1.0                  1.0  \n",
       "std                    0.0                  0.0  \n",
       "min                    1.0                  1.0  \n",
       "25%                    1.0                  1.0  \n",
       "50%                    1.0                  1.0  \n",
       "75%                    1.0                  1.0  \n",
       "max                    1.0                  1.0  \n",
       "\n",
       "[8 rows x 41 columns]"
      ]
     },
     "execution_count": 19,
     "metadata": {},
     "output_type": "execute_result"
    }
   ],
   "source": [
    "data.describe()"
   ]
  },
  {
   "cell_type": "markdown",
   "metadata": {},
   "source": [
    "Univariate Analysis"
   ]
  },
  {
   "cell_type": "code",
   "execution_count": 20,
   "metadata": {},
   "outputs": [
    {
     "data": {
      "text/plain": [
       "M    40150\n",
       "F     6737\n",
       "Name: gender, dtype: int64"
      ]
     },
     "execution_count": 20,
     "metadata": {},
     "output_type": "execute_result"
    }
   ],
   "source": [
    "data['gender'].value_counts()"
   ]
  },
  {
   "cell_type": "code",
   "execution_count": 21,
   "metadata": {},
   "outputs": [
    {
     "data": {
      "text/plain": [
       "<matplotlib.axes._subplots.AxesSubplot at 0x19774ff5da0>"
      ]
     },
     "execution_count": 21,
     "metadata": {},
     "output_type": "execute_result"
    },
    {
     "data": {
      "image/png": "[encoded data removed]",
      "text/plain": [
       "<Figure size 432x288 with 1 Axes>"
      ]
     },
     "metadata": {
      "needs_background": "light"
     },
     "output_type": "display_data"
    }
   ],
   "source": [
    "sns.distplot(data['age'], bins=10, kde=True, rug=True)"
   ]
  },
  {
   "cell_type": "markdown",
   "metadata": {},
   "source": [
    "There are lot of outliers in age. There are rows of data where the age > 100"
   ]
  },
  {
   "cell_type": "code",
   "execution_count": 22,
   "metadata": {},
   "outputs": [
    {
     "name": "stdout",
     "output_type": "stream",
     "text": [
      "683    5691\n",
      "723    3876\n",
      "233    3841\n",
      "623    3645\n",
      "523    3621\n",
      "534    2282\n",
      "245    1507\n",
      "324    1471\n",
      "823     994\n",
      "524     503\n",
      "503     458\n",
      "544     451\n",
      "764     396\n",
      "244     378\n",
      "533     345\n",
      "283     340\n",
      "425     323\n",
      "513     320\n",
      "519     305\n",
      "505     280\n",
      "653     280\n",
      "575     259\n",
      "545     245\n",
      "818     244\n",
      "349     240\n",
      "535     237\n",
      "805     231\n",
      "264     220\n",
      "726     216\n",
      "554     210\n",
      "       ... \n",
      "956       1\n",
      "295       1\n",
      "363       1\n",
      "928       1\n",
      "555       1\n",
      "317       1\n",
      "635       1\n",
      "532       1\n",
      "863       1\n",
      "272       1\n",
      "963       1\n",
      "675       1\n",
      "277       1\n",
      "611       1\n",
      "885       1\n",
      "388       1\n",
      "343       1\n",
      "915       1\n",
      "243       1\n",
      "962       1\n",
      "914       1\n",
      "261       1\n",
      "357       1\n",
      "450       1\n",
      "389       1\n",
      "689       1\n",
      "633       1\n",
      "771       1\n",
      "921       1\n",
      "495       1\n",
      "Name: region_code, Length: 423, dtype: int64\n"
     ]
    }
   ],
   "source": [
    "print(data['region_code'].value_counts())"
   ]
  },
  {
   "cell_type": "markdown",
   "metadata": {},
   "source": [
    "Bi Varaite Analysis"
   ]
  },
  {
   "cell_type": "markdown",
   "metadata": {},
   "source": [
    "Compare gender to cc_cons and age to cc_cons"
   ]
  },
  {
   "cell_type": "code",
   "execution_count": 23,
   "metadata": {},
   "outputs": [
    {
     "data": {
      "text/plain": [
       "<seaborn.axisgrid.JointGrid at 0x19777c5bdd8>"
      ]
     },
     "execution_count": 23,
     "metadata": {},
     "output_type": "execute_result"
    },
    {
     "data": {
      "image/png": "[encoded data removed]",
      "text/plain": [
       "<Figure size 432x432 with 3 Axes>"
      ]
     },
     "metadata": {
      "needs_background": "light"
     },
     "output_type": "display_data"
    }
   ],
   "source": [
    "sns.jointplot(x=\"age\", y=\"cc_cons\", data=data,kind='reg')"
   ]
  },
  {
   "cell_type": "code",
   "execution_count": 42,
   "metadata": {},
   "outputs": [
    {
     "data": {
      "text/plain": [
       "<seaborn.axisgrid.JointGrid at 0x28141e54390>"
      ]
     },
     "execution_count": 42,
     "metadata": {},
     "output_type": "execute_result"
    },
    {
     "data": {
      "image/png": "[encoded data removed]",
      "text/plain": [
       "<Figure size 432x432 with 3 Axes>"
      ]
     },
     "metadata": {
      "needs_background": "light"
     },
     "output_type": "display_data"
    }
   ],
   "source": [
    "sns.jointplot(x=\"region_code\", y=\"cc_cons\", data=data,kind='reg')"
   ]
  },
  {
   "cell_type": "code",
   "execution_count": 63,
   "metadata": {},
   "outputs": [
    {
     "data": {
      "text/plain": [
       "<matplotlib.axes._subplots.AxesSubplot at 0x26f8500d2b0>"
      ]
     },
     "execution_count": 63,
     "metadata": {},
     "output_type": "execute_result"
    },
    {
     "data": {
      "image/png": "[encoded data removed]",
      "text/plain": [
       "<Figure size 432x288 with 1 Axes>"
      ]
     },
     "metadata": {
      "needs_background": "light"
     },
     "output_type": "display_data"
    }
   ],
   "source": [
    "sns.distplot(train_data_orig['region_code'], bins=10, kde=True, rug=True)"
   ]
  },
  {
   "cell_type": "code",
   "execution_count": 24,
   "metadata": {},
   "outputs": [
    {
     "name": "stdout",
     "output_type": "stream",
     "text": [
      "      account_type  age  card_lim   cc_cons  cc_cons_apr  cc_cons_jun  \\\n",
      "0           saving   63  150000.0  6.077642     8.948456     6.434547   \n",
      "1          current   33  176000.0  7.561122    10.872428     6.992096   \n",
      "2          current   44   65000.0  7.586296     9.287439     7.063904   \n",
      "3           saving   44  600000.0  9.979522     9.949273     9.374116   \n",
      "4           saving   35  100000.0  7.503841     7.077355     6.852243   \n",
      "5          current   26   50000.0  6.440947    10.893417     6.955593   \n",
      "6          current   30   30000.0  7.627057     7.310550     7.583248   \n",
      "7          current   32   25000.0  6.075346     7.521859     6.507278   \n",
      "8          current   37  300000.0  9.243001     9.128688     9.343188   \n",
      "9           saving   47   64000.0  7.798933     9.126123     9.591718   \n",
      "10          saving   58  245000.0  7.853216    10.551599     5.726848   \n",
      "11         current   43   55000.0  7.636752     8.444091     7.760893   \n",
      "12          saving   42  200000.0  8.527342     9.766593     8.527539   \n",
      "23         current   28   36000.0  7.644919     7.624863     6.154858   \n",
      "26         current   50   75000.0  7.611842    10.042358    10.265906   \n",
      "27         current   27   40000.0  7.484369    10.042771     8.322520   \n",
      "39         current   24   26000.0  8.039157     6.853299     7.085692   \n",
      "40          saving   69  475000.0  9.893387     8.557104     8.241254   \n",
      "43         current   29  113000.0  8.975630     7.901748     7.992945   \n",
      "61         current   51   40000.0  7.419381     8.651668     8.668024   \n",
      "76         current   53  250000.0  8.715388    11.340085    10.413834   \n",
      "87         current   65  190000.0  6.236370     9.236198     6.439350   \n",
      "121        current   50  471000.0  6.311735    11.614546     8.937875   \n",
      "337         saving   63  600000.0  9.787908    11.261449    10.853290   \n",
      "568         saving   60  500000.0  7.555382    11.817333     7.427144   \n",
      "1121        saving  119  280000.0  8.129470     9.462137     8.846739   \n",
      "2496       current  221  130000.0  8.287025     8.243414     6.481577   \n",
      "2589        saving   70   59000.0  8.700181     8.597696     7.299270   \n",
      "2914       current  119   46000.0  8.555067    10.366278     8.715880   \n",
      "3205       current  222   75000.0  8.396381    10.323082     9.304923   \n",
      "4313        saving   71  140000.0  9.481207    11.105479    10.038849   \n",
      "7071        saving  223  300000.0  8.709465     9.952727     9.165343   \n",
      "8405        saving   71  420000.0  9.673886     9.849170     6.150603   \n",
      "9720        saving   70  300000.0  6.672033    10.097693     8.948586   \n",
      "14485      current   70  344000.0  8.375630     9.520063     9.124891   \n",
      "\n",
      "       cc_cons_may  cc_count_apr  cc_count_jun  cc_count_may  ...  \\\n",
      "0         6.173786           2.0           3.0           1.0  ...   \n",
      "1        10.304744          11.0          11.0          14.0  ...   \n",
      "2         9.983252           6.0           6.0           9.0  ...   \n",
      "3         7.647309           9.0           6.0           6.0  ...   \n",
      "4         8.204478           2.0           9.0           7.0  ...   \n",
      "5         8.458275          14.0          11.0           8.0  ...   \n",
      "6         7.702104           1.0           1.0           NaN  ...   \n",
      "7         7.206971           2.0           6.0           2.0  ...   \n",
      "8        11.468209           1.0           5.0           5.0  ...   \n",
      "9         9.027445           5.0          14.0           6.0  ...   \n",
      "10       10.069623          23.0          25.0          15.0  ...   \n",
      "11        8.948391           7.0          10.0          10.0  ...   \n",
      "12        7.491049          11.0           9.0           2.0  ...   \n",
      "23        6.964136           NaN           2.0           1.0  ...   \n",
      "26        9.655859           NaN          14.0           8.0  ...   \n",
      "27        8.299286           8.0           4.0           5.0  ...   \n",
      "39        5.543222           2.0           NaN           1.0  ...   \n",
      "40        7.169350           8.0           5.0           2.0  ...   \n",
      "43        7.295056           NaN           2.0           1.0  ...   \n",
      "61        7.931536           6.0          22.0           2.0  ...   \n",
      "76        9.876322           5.0          22.0           4.0  ...   \n",
      "87        8.103192           9.0          18.0           6.0  ...   \n",
      "121      10.148182          12.0          21.0          19.0  ...   \n",
      "337       6.396930           7.0          24.0           1.0  ...   \n",
      "568       9.292408           8.0           4.0          12.0  ...   \n",
      "1121      6.794598           5.0           2.0           1.0  ...   \n",
      "2496      8.601718           NaN           1.0           4.0  ...   \n",
      "2589      9.147112           8.0           6.0          13.0  ...   \n",
      "2914      9.867420           6.0           5.0           NaN  ...   \n",
      "3205      5.774552          15.0           2.0           1.0  ...   \n",
      "4313      9.301812          11.0          10.0           4.0  ...   \n",
      "7071      9.201426          16.0          19.0           5.0  ...   \n",
      "8405      9.144680          11.0          16.0           9.0  ...   \n",
      "9720      9.891747           6.0          21.0          10.0  ...   \n",
      "14485     9.658350           NaN           8.0           8.0  ...   \n",
      "\n",
      "       investment_4  loan_enq  max_credit_amount_apr  max_credit_amount_jun  \\\n",
      "0               NaN       NaN               50000.00                 470.00   \n",
      "1               NaN       NaN               70000.00               27000.00   \n",
      "2               NaN       NaN               11700.00               20800.00   \n",
      "3               NaN       NaN                2000.00                5300.00   \n",
      "4               NaN       NaN               10000.00               45000.00   \n",
      "5               NaN       NaN                3000.00               20890.00   \n",
      "6               NaN       NaN               25282.00               50000.00   \n",
      "7               NaN       NaN               30281.00               31663.00   \n",
      "8               NaN       NaN               51606.00               92800.00   \n",
      "9               NaN       NaN                    NaN                 275.00   \n",
      "10              NaN         Y               10000.00               40000.00   \n",
      "11              NaN       NaN              110000.00               60848.00   \n",
      "12              NaN       NaN              400000.00               76264.00   \n",
      "23              NaN       NaN               12955.00                 740.00   \n",
      "26              NaN       NaN                4000.00               18500.00   \n",
      "27              NaN       NaN               25466.00               26074.00   \n",
      "39              NaN       NaN                5000.00               20000.00   \n",
      "40              NaN       NaN               10000.00                5000.00   \n",
      "43              NaN       NaN               42421.00               42646.00   \n",
      "61              NaN       NaN               14297.00               15297.00   \n",
      "76              NaN       NaN              104470.00               89470.00   \n",
      "87              NaN       NaN                9325.00                6000.00   \n",
      "121             NaN       NaN               19000.00                6000.00   \n",
      "337             NaN       NaN              186634.43              155560.00   \n",
      "568             NaN       NaN               10000.00                 166.00   \n",
      "1121            NaN       NaN                    NaN                    NaN   \n",
      "2496            NaN       NaN               53957.00               37883.00   \n",
      "2589            NaN       NaN                3900.00               15000.00   \n",
      "2914            NaN       NaN              104518.00              102332.00   \n",
      "3205            NaN       NaN               39824.00               41247.00   \n",
      "4313            NaN       NaN                    NaN                  87.00   \n",
      "7071            NaN       NaN                  50.00                 157.00   \n",
      "8405            NaN       NaN                    NaN               30000.00   \n",
      "9720            NaN       NaN                    NaN                  41.00   \n",
      "14485           NaN       NaN                    NaN                 196.93   \n",
      "\n",
      "       max_credit_amount_may  personal_loan_active  personal_loan_closed  \\\n",
      "0                   45000.00                   NaN                   NaN   \n",
      "1                  150000.00                   NaN                   1.0   \n",
      "2                   13800.00                   NaN                   NaN   \n",
      "3                   19300.00                   NaN                   NaN   \n",
      "4                    3000.00                   NaN                   NaN   \n",
      "5                   20603.00                   NaN                   NaN   \n",
      "6                   24782.00                   NaN                   NaN   \n",
      "7                   30281.00                   NaN                   NaN   \n",
      "8                   51555.00                   NaN                   NaN   \n",
      "9                        NaN                   NaN                   NaN   \n",
      "10                  40000.00                   NaN                   1.0   \n",
      "11                  35247.00                   NaN                   NaN   \n",
      "12                 124158.63                   NaN                   NaN   \n",
      "23                 146915.00                   NaN                   NaN   \n",
      "26                  40000.00                   NaN                   NaN   \n",
      "27                  33948.00                   NaN                   NaN   \n",
      "39                  10000.00                   NaN                   NaN   \n",
      "40                  10500.00                   NaN                   NaN   \n",
      "43                 100000.00                   NaN                   NaN   \n",
      "61                       NaN                   NaN                   NaN   \n",
      "76                  89470.00                   NaN                   NaN   \n",
      "87                   9325.00                   NaN                   1.0   \n",
      "121                100000.00                   NaN                   NaN   \n",
      "337                162156.00                   NaN                   NaN   \n",
      "568                      NaN                   NaN                   NaN   \n",
      "1121                     NaN                   1.0                   NaN   \n",
      "2496                37200.00                   NaN                   1.0   \n",
      "2589                 3000.00                   NaN                   NaN   \n",
      "2914               136268.00                   NaN                   NaN   \n",
      "3205                38547.00                   NaN                   NaN   \n",
      "4313                30000.00                   NaN                   NaN   \n",
      "7071                     NaN                   NaN                   NaN   \n",
      "8405                     NaN                   NaN                   NaN   \n",
      "9720                     NaN                   NaN                   NaN   \n",
      "14485                    NaN                   NaN                   1.0   \n",
      "\n",
      "       region_code  vehicle_loan_active  vehicle_loan_closed  \n",
      "0              305                  NaN                  NaN  \n",
      "1              326                  NaN                  NaN  \n",
      "2              264                  NaN                  NaN  \n",
      "3              233                  NaN                  NaN  \n",
      "4              324                  NaN                  NaN  \n",
      "5              233                  NaN                  NaN  \n",
      "6              683                  NaN                  NaN  \n",
      "7              892                  NaN                  NaN  \n",
      "8              233                  NaN                  NaN  \n",
      "9              233                  NaN                  NaN  \n",
      "10             534                  NaN                  NaN  \n",
      "11             653                  NaN                  NaN  \n",
      "12             283                  NaN                  NaN  \n",
      "23             523                  NaN                  NaN  \n",
      "26             923                  NaN                  NaN  \n",
      "27             523                  NaN                  NaN  \n",
      "39             233                  NaN                  NaN  \n",
      "40             597                  NaN                  1.0  \n",
      "43             723                  NaN                  NaN  \n",
      "61             623                  NaN                  NaN  \n",
      "76             233                  NaN                  1.0  \n",
      "87             544                  NaN                  NaN  \n",
      "121            743                  NaN                  NaN  \n",
      "337            523                  NaN                  NaN  \n",
      "568            534                  NaN                  NaN  \n",
      "1121           123                  NaN                  NaN  \n",
      "2496           723                  NaN                  NaN  \n",
      "2589           653                  NaN                  NaN  \n",
      "2914           683                  NaN                  NaN  \n",
      "3205           526                  NaN                  NaN  \n",
      "4313           503                  NaN                  NaN  \n",
      "7071           523                  NaN                  NaN  \n",
      "8405           563                  NaN                  NaN  \n",
      "9720           805                  NaN                  NaN  \n",
      "14485          623                  NaN                  NaN  \n",
      "\n",
      "[35 rows x 44 columns]\n"
     ]
    }
   ],
   "source": [
    "bins=[0,20,30,40,50,60,70,80]\n",
    "cc_cons_age = np.digitize(data['age'],bins)\n",
    "#print(cc_cons_age)\n",
    "print (data.groupby(cc_cons_age).head())\n",
    "#plt.hist(cc_cons_age,bins=bins)\n",
    "#plt.show()"
   ]
  },
  {
   "cell_type": "code",
   "execution_count": null,
   "metadata": {},
   "outputs": [],
   "source": []
  },
  {
   "cell_type": "code",
   "execution_count": 25,
   "metadata": {},
   "outputs": [
    {
     "name": "stdout",
     "output_type": "stream",
     "text": [
      "region_code\n",
      "123      108.957244\n",
      "233    21218.247527\n",
      "234        6.411818\n",
      "243        9.386812\n",
      "244     2049.300064\n",
      "245     8426.012841\n",
      "246      439.819441\n",
      "247      509.823060\n",
      "248      522.141697\n",
      "249      119.887453\n",
      "250      218.948934\n",
      "254      358.973211\n",
      "255      706.504996\n",
      "256      183.121036\n",
      "257      529.049282\n",
      "258      156.903974\n",
      "259      240.588849\n",
      "261        8.110728\n",
      "263      789.257307\n",
      "264     1251.726671\n",
      "265      268.877452\n",
      "266     1048.240533\n",
      "267      936.716015\n",
      "268       72.972668\n",
      "269      203.358139\n",
      "270      532.481927\n",
      "271      388.735281\n",
      "272        7.612337\n",
      "274      482.210521\n",
      "275      371.197616\n",
      "           ...     \n",
      "938       35.889428\n",
      "939       21.874121\n",
      "944       38.380138\n",
      "945       37.956149\n",
      "946       91.954960\n",
      "947       22.987348\n",
      "948       48.860665\n",
      "949       69.951197\n",
      "950      101.320576\n",
      "951      103.458376\n",
      "952        8.519790\n",
      "954      366.272060\n",
      "955       58.336269\n",
      "956        6.508769\n",
      "957      353.230814\n",
      "958       30.630031\n",
      "962        7.372746\n",
      "963        6.678342\n",
      "964      127.475075\n",
      "965       71.803141\n",
      "966       41.975978\n",
      "967       98.386392\n",
      "968       74.919407\n",
      "969      103.327874\n",
      "970       79.921466\n",
      "971       52.969851\n",
      "974       31.715168\n",
      "975       28.346759\n",
      "977       75.215149\n",
      "978        0.000000\n",
      "Name: cc_cons, Length: 423, dtype: float64\n"
     ]
    },
    {
     "data": {
      "text/plain": [
       "(array([200.,  68.,  36.,  28.,  18.,  16.,  10.,   8.,   1.,   4.]),\n",
       " array([   0,  100,  200,  300,  400,  500,  600,  700,  800,  900, 1000]),\n",
       " <a list of 10 Patch objects>)"
      ]
     },
     "execution_count": 25,
     "metadata": {},
     "output_type": "execute_result"
    },
    {
     "data": {
      "image/png": "[encoded data removed]",
      "text/plain": [
       "<Figure size 432x288 with 1 Axes>"
      ]
     },
     "metadata": {
      "needs_background": "light"
     },
     "output_type": "display_data"
    }
   ],
   "source": [
    "cc_cons_reg = data.groupby(['region_code'])['cc_cons'].sum()\n",
    "print(cc_cons_reg)\n",
    "bins=[0,100,200,300,400,500,600,700,800,900,1000]\n",
    "plt.hist(cc_cons_reg,bins=bins)"
   ]
  },
  {
   "cell_type": "markdown",
   "metadata": {},
   "source": [
    "Fill loan_enq with 'N'"
   ]
  },
  {
   "cell_type": "code",
   "execution_count": 26,
   "metadata": {},
   "outputs": [],
   "source": [
    "data['loan_enq'].fillna('N',inplace=True)"
   ]
  },
  {
   "cell_type": "code",
   "execution_count": 27,
   "metadata": {},
   "outputs": [],
   "source": [
    "#Convert Categorical variables\n",
    "le = LabelEncoder()\n",
    "data['gender'] = le.fit_transform(data['gender'])\n",
    "data['account_type'] = le.fit_transform(data['account_type'])\n",
    "data['loan_enq'] = le.fit_transform(data['loan_enq'])"
   ]
  },
  {
   "cell_type": "code",
   "execution_count": 28,
   "metadata": {},
   "outputs": [],
   "source": [
    "# sex=pd.crosstab(train_data_orig['gender'],train_data_orig['cc_cons'])\n",
    "# sex.div(sex.sum(1).astype(float),axis=0).plot(kind='bar',stacked=True,figsize=(4,4))"
   ]
  },
  {
   "cell_type": "code",
   "execution_count": 29,
   "metadata": {},
   "outputs": [],
   "source": [
    "#Analysing whether region influences credit card consumption\n"
   ]
  },
  {
   "cell_type": "code",
   "execution_count": 30,
   "metadata": {},
   "outputs": [],
   "source": [
    "#sns.pairplot(train_data_orig)"
   ]
  },
  {
   "cell_type": "code",
   "execution_count": 31,
   "metadata": {},
   "outputs": [
    {
     "data": {
      "image/png": "[encoded data removed]",
      "text/plain": [
       "<Figure size 648x432 with 2 Axes>"
      ]
     },
     "metadata": {
      "needs_background": "light"
     },
     "output_type": "display_data"
    }
   ],
   "source": [
    "matrix = train_data_orig.corr()\n",
    "f, ax = plt.subplots(figsize=(9, 6))\n",
    "sns.heatmap(matrix, vmax=.8, square=True, cmap=\"BuPu\");"
   ]
  },
  {
   "cell_type": "code",
   "execution_count": 32,
   "metadata": {},
   "outputs": [
    {
     "data": {
      "text/plain": [
       "account_type                 0\n",
       "age                          0\n",
       "card_lim                    12\n",
       "cc_cons                  14067\n",
       "cc_cons_apr                  0\n",
       "cc_cons_jun                  0\n",
       "cc_cons_may                  0\n",
       "cc_count_apr              3437\n",
       "cc_count_jun              2224\n",
       "cc_count_may              1695\n",
       "credit_amount_apr         4767\n",
       "credit_amount_jun         2206\n",
       "credit_amount_may         4900\n",
       "credit_count_apr          2546\n",
       "credit_count_jun          2183\n",
       "credit_count_may          2968\n",
       "dc_cons_apr              27282\n",
       "dc_cons_jun              30361\n",
       "dc_cons_may              24714\n",
       "dc_count_apr             27282\n",
       "dc_count_jun             22049\n",
       "dc_count_may             24714\n",
       "debit_amount_apr          2737\n",
       "debit_amount_jun          3140\n",
       "debit_amount_may          3302\n",
       "debit_count_apr           2546\n",
       "debit_count_jun           2183\n",
       "debit_count_may           2968\n",
       "emi_active                   0\n",
       "gender                       0\n",
       "id                           0\n",
       "investment_1             44811\n",
       "investment_2             43522\n",
       "investment_3             44941\n",
       "investment_4             46308\n",
       "loan_enq                     0\n",
       "max_credit_amount_apr     4767\n",
       "max_credit_amount_jun     2206\n",
       "max_credit_amount_may     4900\n",
       "personal_loan_active     43011\n",
       "personal_loan_closed     42745\n",
       "region_code                  0\n",
       "vehicle_loan_active      45686\n",
       "vehicle_loan_closed      44581\n",
       "dtype: int64"
      ]
     },
     "execution_count": 32,
     "metadata": {},
     "output_type": "execute_result"
    }
   ],
   "source": [
    "data.isnull().sum()"
   ]
  },
  {
   "cell_type": "markdown",
   "metadata": {},
   "source": [
    "Sparsely Populated columns - Loan Enq, personal_loan_active,vehicle_loan_active,personal_loan_closed,vehicle_loan_closed,investment(1,2,3,4) Fill 0's for non filled columns"
   ]
  },
  {
   "cell_type": "code",
   "execution_count": 33,
   "metadata": {},
   "outputs": [
    {
     "data": {
      "text/html": [
       "<div>\n",
       "<style scoped>\n",
       "    .dataframe tbody tr th:only-of-type {\n",
       "        vertical-align: middle;\n",
       "    }\n",
       "\n",
       "    .dataframe tbody tr th {\n",
       "        vertical-align: top;\n",
       "    }\n",
       "\n",
       "    .dataframe thead th {\n",
       "        text-align: right;\n",
       "    }\n",
       "</style>\n",
       "<table border=\"1\" class=\"dataframe\">\n",
       "  <thead>\n",
       "    <tr style=\"text-align: right;\">\n",
       "      <th></th>\n",
       "      <th>account_type</th>\n",
       "      <th>age</th>\n",
       "      <th>card_lim</th>\n",
       "      <th>cc_cons</th>\n",
       "      <th>cc_cons_apr</th>\n",
       "      <th>cc_cons_jun</th>\n",
       "      <th>cc_cons_may</th>\n",
       "      <th>cc_count_apr</th>\n",
       "      <th>cc_count_jun</th>\n",
       "      <th>cc_count_may</th>\n",
       "      <th>...</th>\n",
       "      <th>investment_4</th>\n",
       "      <th>loan_enq</th>\n",
       "      <th>max_credit_amount_apr</th>\n",
       "      <th>max_credit_amount_jun</th>\n",
       "      <th>max_credit_amount_may</th>\n",
       "      <th>personal_loan_active</th>\n",
       "      <th>personal_loan_closed</th>\n",
       "      <th>region_code</th>\n",
       "      <th>vehicle_loan_active</th>\n",
       "      <th>vehicle_loan_closed</th>\n",
       "    </tr>\n",
       "  </thead>\n",
       "  <tbody>\n",
       "    <tr>\n",
       "      <th>0</th>\n",
       "      <td>1</td>\n",
       "      <td>63</td>\n",
       "      <td>150000.0</td>\n",
       "      <td>6.077642</td>\n",
       "      <td>8.948456</td>\n",
       "      <td>6.434547</td>\n",
       "      <td>6.173786</td>\n",
       "      <td>2.0</td>\n",
       "      <td>3.0</td>\n",
       "      <td>1.0</td>\n",
       "      <td>...</td>\n",
       "      <td>NaN</td>\n",
       "      <td>0</td>\n",
       "      <td>50000.0</td>\n",
       "      <td>470.0</td>\n",
       "      <td>45000.0</td>\n",
       "      <td>NaN</td>\n",
       "      <td>NaN</td>\n",
       "      <td>305</td>\n",
       "      <td>NaN</td>\n",
       "      <td>NaN</td>\n",
       "    </tr>\n",
       "    <tr>\n",
       "      <th>1</th>\n",
       "      <td>0</td>\n",
       "      <td>33</td>\n",
       "      <td>176000.0</td>\n",
       "      <td>7.561122</td>\n",
       "      <td>10.872428</td>\n",
       "      <td>6.992096</td>\n",
       "      <td>10.304744</td>\n",
       "      <td>11.0</td>\n",
       "      <td>11.0</td>\n",
       "      <td>14.0</td>\n",
       "      <td>...</td>\n",
       "      <td>NaN</td>\n",
       "      <td>0</td>\n",
       "      <td>70000.0</td>\n",
       "      <td>27000.0</td>\n",
       "      <td>150000.0</td>\n",
       "      <td>NaN</td>\n",
       "      <td>1.0</td>\n",
       "      <td>326</td>\n",
       "      <td>NaN</td>\n",
       "      <td>NaN</td>\n",
       "    </tr>\n",
       "    <tr>\n",
       "      <th>2</th>\n",
       "      <td>0</td>\n",
       "      <td>44</td>\n",
       "      <td>65000.0</td>\n",
       "      <td>7.586296</td>\n",
       "      <td>9.287439</td>\n",
       "      <td>7.063904</td>\n",
       "      <td>9.983252</td>\n",
       "      <td>6.0</td>\n",
       "      <td>6.0</td>\n",
       "      <td>9.0</td>\n",
       "      <td>...</td>\n",
       "      <td>NaN</td>\n",
       "      <td>0</td>\n",
       "      <td>11700.0</td>\n",
       "      <td>20800.0</td>\n",
       "      <td>13800.0</td>\n",
       "      <td>NaN</td>\n",
       "      <td>NaN</td>\n",
       "      <td>264</td>\n",
       "      <td>NaN</td>\n",
       "      <td>NaN</td>\n",
       "    </tr>\n",
       "  </tbody>\n",
       "</table>\n",
       "<p>3 rows × 44 columns</p>\n",
       "</div>"
      ],
      "text/plain": [
       "   account_type  age  card_lim   cc_cons  cc_cons_apr  cc_cons_jun  \\\n",
       "0             1   63  150000.0  6.077642     8.948456     6.434547   \n",
       "1             0   33  176000.0  7.561122    10.872428     6.992096   \n",
       "2             0   44   65000.0  7.586296     9.287439     7.063904   \n",
       "\n",
       "   cc_cons_may  cc_count_apr  cc_count_jun  cc_count_may  ...  investment_4  \\\n",
       "0     6.173786           2.0           3.0           1.0  ...           NaN   \n",
       "1    10.304744          11.0          11.0          14.0  ...           NaN   \n",
       "2     9.983252           6.0           6.0           9.0  ...           NaN   \n",
       "\n",
       "   loan_enq  max_credit_amount_apr  max_credit_amount_jun  \\\n",
       "0         0                50000.0                  470.0   \n",
       "1         0                70000.0                27000.0   \n",
       "2         0                11700.0                20800.0   \n",
       "\n",
       "   max_credit_amount_may  personal_loan_active  personal_loan_closed  \\\n",
       "0                45000.0                   NaN                   NaN   \n",
       "1               150000.0                   NaN                   1.0   \n",
       "2                13800.0                   NaN                   NaN   \n",
       "\n",
       "   region_code  vehicle_loan_active  vehicle_loan_closed  \n",
       "0          305                  NaN                  NaN  \n",
       "1          326                  NaN                  NaN  \n",
       "2          264                  NaN                  NaN  \n",
       "\n",
       "[3 rows x 44 columns]"
      ]
     },
     "execution_count": 33,
     "metadata": {},
     "output_type": "execute_result"
    }
   ],
   "source": [
    "data.head(3)"
   ]
  },
  {
   "cell_type": "markdown",
   "metadata": {},
   "source": [
    "Fill the sparse columns mentioned above with 0 doing it across both train and test data"
   ]
  },
  {
   "cell_type": "code",
   "execution_count": 34,
   "metadata": {},
   "outputs": [],
   "source": [
    "data['personal_loan_active'].fillna(0,inplace=True)\n",
    "data['vehicle_loan_active'].fillna(0,inplace=True)\n",
    "data['personal_loan_closed'].fillna(0,inplace=True)\n",
    "data['vehicle_loan_closed'].fillna(0,inplace=True)\n",
    "data['investment_1'].fillna(0,inplace=True)\n",
    "data['investment_2'].fillna(0,inplace=True)\n",
    "data['investment_3'].fillna(0,inplace=True)\n",
    "data['investment_4'].fillna(0,inplace=True)"
   ]
  },
  {
   "cell_type": "code",
   "execution_count": 35,
   "metadata": {},
   "outputs": [],
   "source": [
    "data['cc_count_apr'].fillna(0,inplace=True)\n",
    "data['cc_count_may'].fillna(0,inplace=True)\n",
    "data['cc_count_jun'].fillna(0,inplace=True)\n",
    "data['credit_amount_apr'].fillna(0,inplace=True)\n",
    "data['credit_amount_may'].fillna(0,inplace=True)\n",
    "data['credit_amount_jun'].fillna(0,inplace=True)\n",
    "data['credit_count_apr'].fillna(0,inplace=True)\n",
    "data['credit_count_may'].fillna(0,inplace=True)\n",
    "data['credit_count_jun'].fillna(0,inplace=True)\n",
    "data['dc_cons_apr'].fillna(0,inplace=True)\n",
    "data['dc_cons_may'].fillna(0,inplace=True)\n",
    "data['dc_cons_jun'].fillna(0,inplace=True)\n",
    "data['dc_count_apr'].fillna(0,inplace=True)\n",
    "data['dc_count_may'].fillna(0,inplace=True)\n",
    "data['dc_count_jun'].fillna(0,inplace=True)\n",
    "data['debit_amount_apr'].fillna(0,inplace=True)\n",
    "data['debit_amount_may'].fillna(0,inplace=True)\n",
    "data['debit_amount_jun'].fillna(0,inplace=True)\n",
    "data['debit_count_apr'].fillna(0,inplace=True)\n",
    "data['debit_count_may'].fillna(0,inplace=True)\n",
    "data['debit_count_jun'].fillna(0,inplace=True)\n",
    "data['max_credit_amount_apr'].fillna(0,inplace=True)\n",
    "data['max_credit_amount_may'].fillna(0,inplace=True)\n",
    "data['max_credit_amount_jun'].fillna(0,inplace=True)"
   ]
  },
  {
   "cell_type": "markdown",
   "metadata": {},
   "source": [
    "Handle Outliers"
   ]
  },
  {
   "cell_type": "code",
   "execution_count": 36,
   "metadata": {},
   "outputs": [],
   "source": [
    "#credit_value = data.groupby(['age','gender','account_type'])['card_lim'].median()\n",
    "card_lim_value = data.groupby(['age'])['card_lim'].median()\n",
    "data['card_lim'].fillna(data['age'].map(lambda age:card_lim_value[age]),inplace=True)"
   ]
  },
  {
   "cell_type": "code",
   "execution_count": 37,
   "metadata": {},
   "outputs": [],
   "source": [
    "# a = data < 0\n",
    "# print(data[a])"
   ]
  },
  {
   "cell_type": "code",
   "execution_count": 38,
   "metadata": {},
   "outputs": [],
   "source": [
    "#Investment 4 has lot of negative values, changing them to positive values\n",
    "data['investment_4']= list(map(lambda x: x if x> 0 else x * -1,data['investment_4'] ))"
   ]
  },
  {
   "cell_type": "code",
   "execution_count": 39,
   "metadata": {},
   "outputs": [],
   "source": [
    "data['age']= list(map(lambda x: x if x< 100 else x % 100,data['age'] ))\n"
   ]
  },
  {
   "cell_type": "code",
   "execution_count": 40,
   "metadata": {},
   "outputs": [
    {
     "data": {
      "text/plain": [
       "<matplotlib.axes._subplots.AxesSubplot at 0x19775828c50>"
      ]
     },
     "execution_count": 40,
     "metadata": {},
     "output_type": "execute_result"
    },
    {
     "data": {
      "image/png": "[encoded data removed]",
      "text/plain": [
       "<Figure size 432x288 with 1 Axes>"
      ]
     },
     "metadata": {
      "needs_background": "light"
     },
     "output_type": "display_data"
    }
   ],
   "source": [
    "sns.distplot(data['age'], bins=10, kde=True, rug=True)"
   ]
  },
  {
   "cell_type": "code",
   "execution_count": 41,
   "metadata": {},
   "outputs": [],
   "source": [
    "#Split data into train and test\n",
    "train = data[0:32820]\n",
    "test = data[32820:]\n",
    "y= train['cc_cons']"
   ]
  },
  {
   "cell_type": "code",
   "execution_count": 42,
   "metadata": {},
   "outputs": [
    {
     "name": "stdout",
     "output_type": "stream",
     "text": [
      "(32820, 44)\n",
      "(14067, 44)\n"
     ]
    }
   ],
   "source": [
    "print(train.shape)\n",
    "print(test.shape)"
   ]
  },
  {
   "cell_type": "code",
   "execution_count": 43,
   "metadata": {},
   "outputs": [],
   "source": [
    "test = test.drop(['cc_cons','id'],axis=1)\n",
    "train = train.drop(['cc_cons','id'],axis=1)"
   ]
  },
  {
   "cell_type": "code",
   "execution_count": 44,
   "metadata": {},
   "outputs": [
    {
     "name": "stdout",
     "output_type": "stream",
     "text": [
      "[ 41  50  19   1  48 252 366 162 245  31 353 275 174  85  82 421 154 185\n",
      " 156 227 217 383 348 351 295 373 155 203 177   5 320  66 332 329 319 261\n",
      "  12 368 223 159   6 106  14  21 169 113 265 226 191 228 165 141 105 323\n",
      " 407  84 264 290 302 232 166 328  26 280 161 270 152 308  11 101 179 170\n",
      "  16  28 278 255 225 149 209 112 104  15  18 182 286 236 293  56  10  95\n",
      " 195  45 143 321   4 324 242  83 151  61 405 277 142 163 248 157 235   8\n",
      " 349 144  34 238  49 243   7 318 259 109 241 138  52  25 418 306 136 408\n",
      " 145 288  90 167 126  79  22 392 382  55 330 262 133 224 317 301 396  58\n",
      " 230  20  99  29  32  80 202  43 146 281 299 254  89 331 315 137 108 400\n",
      " 173 247 258 297 240 411 102 354  71 304  40 385 187 313 229  13 250 322\n",
      " 237  36 194 284 118 246  39 257 135  78 355 298 397 231   0 114 219 357\n",
      " 181 139 340 294 134 147 164 309 414 249 124  70 384 129 326 305 100  72\n",
      " 360 125 239  96 263 184 190 346  73 303 279 172 406  35 289  24 367 404\n",
      " 178 103  81  62 300 282 333 350  59 274  42 291 233 339 372 153 215 122\n",
      " 192 356 266 342 220 218 409 358 267 337 107 327 296 412 189 221 213 352\n",
      " 120  94 273  64   9 310 344 361 307 345 186  86 128 419 379 150  97  93\n",
      "  67 401 287 285  53 171 364  38 371 127 253  65 374 210 276 260  77 208\n",
      "  69 188 402 197  37  98 325 316 158 216 198 199 212 420 398 193 272 283\n",
      " 365 417   2 204 389 386 132 393 314  33 200 211 222 205 196 370 271 399\n",
      "  88 148  23  54  57 268 180 311 376 416 183 292 388  30  68 347 387 312\n",
      " 369 131 395 341  46 160 115 391 390 334 207 269  44 410 413 403 336 380\n",
      " 117 201 176 116 394 415 206 363  91 168 343 111  76 110 377 123 359  63\n",
      " 121 130 378 234 119 375 362 335 256  17  51  27   3 175 381 338  75 214\n",
      " 140 422  60  92 251 244  74  87  47]\n"
     ]
    }
   ],
   "source": [
    "data['region_code'] = le.fit_transform(data['region_code'])\n",
    "print(data['region_code'].unique())"
   ]
  },
  {
   "cell_type": "code",
   "execution_count": 45,
   "metadata": {},
   "outputs": [
    {
     "name": "stdout",
     "output_type": "stream",
     "text": [
      "<class 'pandas.core.frame.DataFrame'>\n",
      "RangeIndex: 14067 entries, 32820 to 46886\n",
      "Data columns (total 42 columns):\n",
      "account_type             14067 non-null int32\n",
      "age                      14067 non-null int64\n",
      "card_lim                 14067 non-null float64\n",
      "cc_cons_apr              14067 non-null float64\n",
      "cc_cons_jun              14067 non-null float64\n",
      "cc_cons_may              14067 non-null float64\n",
      "cc_count_apr             14067 non-null float64\n",
      "cc_count_jun             14067 non-null float64\n",
      "cc_count_may             14067 non-null float64\n",
      "credit_amount_apr        14067 non-null float64\n",
      "credit_amount_jun        14067 non-null float64\n",
      "credit_amount_may        14067 non-null float64\n",
      "credit_count_apr         14067 non-null float64\n",
      "credit_count_jun         14067 non-null float64\n",
      "credit_count_may         14067 non-null float64\n",
      "dc_cons_apr              14067 non-null float64\n",
      "dc_cons_jun              14067 non-null float64\n",
      "dc_cons_may              14067 non-null float64\n",
      "dc_count_apr             14067 non-null float64\n",
      "dc_count_jun             14067 non-null float64\n",
      "dc_count_may             14067 non-null float64\n",
      "debit_amount_apr         14067 non-null float64\n",
      "debit_amount_jun         14067 non-null float64\n",
      "debit_amount_may         14067 non-null float64\n",
      "debit_count_apr          14067 non-null float64\n",
      "debit_count_jun          14067 non-null float64\n",
      "debit_count_may          14067 non-null float64\n",
      "emi_active               14067 non-null float64\n",
      "gender                   14067 non-null int32\n",
      "investment_1             14067 non-null float64\n",
      "investment_2             14067 non-null float64\n",
      "investment_3             14067 non-null float64\n",
      "investment_4             14067 non-null float64\n",
      "loan_enq                 14067 non-null int32\n",
      "max_credit_amount_apr    14067 non-null float64\n",
      "max_credit_amount_jun    14067 non-null float64\n",
      "max_credit_amount_may    14067 non-null float64\n",
      "personal_loan_active     14067 non-null float64\n",
      "personal_loan_closed     14067 non-null float64\n",
      "region_code              14067 non-null int64\n",
      "vehicle_loan_active      14067 non-null float64\n",
      "vehicle_loan_closed      14067 non-null float64\n",
      "dtypes: float64(37), int32(3), int64(2)\n",
      "memory usage: 4.3 MB\n"
     ]
    }
   ],
   "source": [
    "test.info()"
   ]
  },
  {
   "cell_type": "code",
   "execution_count": 46,
   "metadata": {},
   "outputs": [],
   "source": [
    "# # Feature Scaling\n",
    "scaler = StandardScaler()\n",
    "X_train = scaler.fit_transform(train)\n",
    "X_test = scaler.fit_transform(test)"
   ]
  },
  {
   "cell_type": "code",
   "execution_count": 47,
   "metadata": {},
   "outputs": [],
   "source": [
    "x_train,x_cv,y_train,y_cv = train_test_split(X_train,y,test_size=0.3)"
   ]
  },
  {
   "cell_type": "code",
   "execution_count": 48,
   "metadata": {},
   "outputs": [
    {
     "name": "stdout",
     "output_type": "stream",
     "text": [
      "14.745573902352053\n",
      "[0.00396262 0.03177819 0.07881299 0.06332208 0.10757399 0.10790502\n",
      " 0.02645343 0.04385685 0.02608447 0.02322363 0.02718749 0.0244321\n",
      " 0.01450268 0.01606688 0.01437332 0.01407765 0.01553135 0.01454214\n",
      " 0.00747776 0.01106687 0.00783055 0.02939837 0.02946427 0.02862933\n",
      " 0.0201634  0.01995897 0.01881393 0.02785246 0.00528428 0.0033164\n",
      " 0.00489248 0.0048063  0.00072228 0.00082595 0.02518865 0.03152391\n",
      " 0.02550305 0.00256768 0.00253546 0.03548767 0.00130724 0.00169584]\n"
     ]
    }
   ],
   "source": [
    "from sklearn.ensemble import RandomForestRegressor\n",
    "model = RandomForestRegressor(n_estimators=250)\n",
    "model.fit(x_train,y_train)\n",
    "pred_cv = model.predict(x_cv)\n",
    "print(np.sqrt(mean_squared_log_error(y_cv, pred_cv))*100)\n",
    "pred_test = model.predict(X_test)\n",
    "print(model.feature_importances_)\n",
    "submission = pd.DataFrame({\n",
    "        \"id\": test_data_orig['id'],\n",
    "        \"cc_cons\": pred_test\n",
    "    })\n",
    "submission.to_csv('C:/Python/AmExpert/data/RF_submission.csv', index=False)"
   ]
  },
  {
   "cell_type": "code",
   "execution_count": 49,
   "metadata": {},
   "outputs": [
    {
     "name": "stdout",
     "output_type": "stream",
     "text": [
      "                          score\n",
      "account_type           0.003963\n",
      "age                    0.031778\n",
      "card_lim               0.078813\n",
      "cc_cons_apr            0.063322\n",
      "cc_cons_jun            0.107574\n",
      "cc_cons_may            0.107905\n",
      "cc_count_apr           0.026453\n",
      "cc_count_jun           0.043857\n",
      "cc_count_may           0.026084\n",
      "credit_amount_apr      0.023224\n",
      "credit_amount_jun      0.027187\n",
      "credit_amount_may      0.024432\n",
      "credit_count_apr       0.014503\n",
      "credit_count_jun       0.016067\n",
      "credit_count_may       0.014373\n",
      "dc_cons_apr            0.014078\n",
      "dc_cons_jun            0.015531\n",
      "dc_cons_may            0.014542\n",
      "dc_count_apr           0.007478\n",
      "dc_count_jun           0.011067\n",
      "dc_count_may           0.007831\n",
      "debit_amount_apr       0.029398\n",
      "debit_amount_jun       0.029464\n",
      "debit_amount_may       0.028629\n",
      "debit_count_apr        0.020163\n",
      "debit_count_jun        0.019959\n",
      "debit_count_may        0.018814\n",
      "emi_active             0.027852\n",
      "gender                 0.005284\n",
      "investment_1           0.003316\n",
      "investment_2           0.004892\n",
      "investment_3           0.004806\n",
      "investment_4           0.000722\n",
      "loan_enq               0.000826\n",
      "max_credit_amount_apr  0.025189\n",
      "max_credit_amount_jun  0.031524\n",
      "max_credit_amount_may  0.025503\n",
      "personal_loan_active   0.002568\n",
      "personal_loan_closed   0.002535\n",
      "region_code            0.035488\n",
      "vehicle_loan_active    0.001307\n",
      "vehicle_loan_closed    0.001696\n"
     ]
    }
   ],
   "source": [
    "importances = pd.Series(model.feature_importances_,index=train.columns)\n",
    "importances = pd.DataFrame(importances,columns=['score'])\n",
    "print(importances)"
   ]
  },
  {
   "cell_type": "code",
   "execution_count": 50,
   "metadata": {},
   "outputs": [
    {
     "data": {
      "text/plain": [
       "<matplotlib.axes._subplots.AxesSubplot at 0x19777f1f0b8>"
      ]
     },
     "execution_count": 50,
     "metadata": {},
     "output_type": "execute_result"
    },
    {
     "data": {
      "image/png": "[encoded data removed]",
      "text/plain": [
       "<Figure size 360x576 with 1 Axes>"
      ]
     },
     "metadata": {
      "needs_background": "light"
     },
     "output_type": "display_data"
    }
   ],
   "source": [
    "importances = importances.sort_values(by='score',ascending=False)\n",
    "importances.plot(kind='barh',figsize=(5,8))"
   ]
  },
  {
   "cell_type": "code",
   "execution_count": 51,
   "metadata": {},
   "outputs": [],
   "source": [
    "# machine learning\n",
    "from sklearn.linear_model import LinearRegression\n",
    "from sklearn.svm import SVR, LinearSVR, NuSVR\n",
    "from sklearn.ensemble import RandomForestRegressor\n",
    "from sklearn.neighbors import KNeighborsRegressor\n",
    "from sklearn.naive_bayes import GaussianNB\n",
    "from sklearn.tree import DecisionTreeRegressor, ExtraTreeRegressor\n",
    "from sklearn.gaussian_process import GaussianProcessRegressor"
   ]
  },
  {
   "cell_type": "code",
   "execution_count": 52,
   "metadata": {},
   "outputs": [],
   "source": [
    "models = {'svm-SVR': SVR,\n",
    "          'svm-LinearSVR': LinearSVR, \n",
    "          'svm-NuSVR': NuSVR,\n",
    "          'RandomForest': RandomForestRegressor,\n",
    "          'KNeighbors': KNeighborsRegressor,\n",
    "          'DecisionTree': DecisionTreeRegressor, \n",
    "          'ExtraTree': ExtraTreeRegressor,\n",
    "          'GaussianProcess': GaussianProcessRegressor}"
   ]
  },
  {
   "cell_type": "code",
   "execution_count": 138,
   "metadata": {},
   "outputs": [
    {
     "name": "stderr",
     "output_type": "stream",
     "text": [
      "C:\\Users\\Srividya\\Anaconda3\\lib\\site-packages\\sklearn\\svm\\base.py:193: FutureWarning: The default value of gamma will change from 'auto' to 'scale' in version 0.22 to account better for unscaled features. Set gamma explicitly to 'auto' or 'scale' to avoid this warning.\n",
      "  \"avoid this warning.\", FutureWarning)\n"
     ]
    },
    {
     "name": "stdout",
     "output_type": "stream",
     "text": [
      "14.624302794429697\n"
     ]
    }
   ],
   "source": [
    "from sklearn.svm import SVR, LinearSVR, NuSVR\n",
    "model = NuSVR()\n",
    "model.fit(x_train,y_train)\n",
    "pred_cv = model.predict(x_cv)\n",
    "print(np.sqrt(mean_squared_log_error(y_cv, pred_cv))*100)\n",
    "pred_test = model.predict(test)\n",
    "#print(model.feature_importances_)\n",
    "# submission = pd.DataFrame({\n",
    "#         \"id\": test_data_orig['id'],\n",
    "#         \"cc_cons\": pred_test\n",
    "#     })\n",
    "# submission.to_csv('C:/Python/AmExpert/data/NuSVR_submission.csv', index=False)"
   ]
  },
  {
   "cell_type": "code",
   "execution_count": 64,
   "metadata": {},
   "outputs": [],
   "source": [
    "from sklearn.metrics import accuracy_score, explained_variance_score, mean_squared_log_error"
   ]
  },
  {
   "cell_type": "code",
   "execution_count": 75,
   "metadata": {},
   "outputs": [],
   "source": [
    "def run_models(x_train, y_train, X_cv, y_cv, model, cm=False, label='', target=''):\n",
    "\n",
    "    \"\"\"\n",
    "    Fits model to X_train and y_train\n",
    "    Predicts targets for X_test\n",
    "    Provides metrics for prediction success of y_test\n",
    "    \"\"\"\n",
    "    \n",
    "    print(label)\n",
    "    model.fit(x_train,y_train)\n",
    "    pred_cv = model.predict(x_cv)\n",
    "    \n",
    "    acc = explained_variance_score(y_cv, pred_cv)\n",
    "    error = np.sqrt(mean_squared_log_error(y_cv, pred_cv))*100\n",
    "    print(\"Accuracy: %f, Error: %f\" % (acc, error))"
   ]
  },
  {
   "cell_type": "code",
   "execution_count": 77,
   "metadata": {},
   "outputs": [
    {
     "name": "stdout",
     "output_type": "stream",
     "text": [
      "svm-SVR\n"
     ]
    },
    {
     "name": "stderr",
     "output_type": "stream",
     "text": [
      "C:\\Users\\Srividya\\Anaconda3\\lib\\site-packages\\sklearn\\svm\\base.py:193: FutureWarning: The default value of gamma will change from 'auto' to 'scale' in version 0.22 to account better for unscaled features. Set gamma explicitly to 'auto' or 'scale' to avoid this warning.\n",
      "  \"avoid this warning.\", FutureWarning)\n"
     ]
    },
    {
     "name": "stdout",
     "output_type": "stream",
     "text": [
      "Accuracy: 0.191482, Error: 14.835737\n",
      "svm-LinearSVR\n"
     ]
    },
    {
     "name": "stderr",
     "output_type": "stream",
     "text": [
      "C:\\Users\\Srividya\\Anaconda3\\lib\\site-packages\\sklearn\\svm\\base.py:929: ConvergenceWarning: Liblinear failed to converge, increase the number of iterations.\n",
      "  \"the number of iterations.\", ConvergenceWarning)\n",
      "C:\\Users\\Srividya\\Anaconda3\\lib\\site-packages\\sklearn\\svm\\base.py:193: FutureWarning: The default value of gamma will change from 'auto' to 'scale' in version 0.22 to account better for unscaled features. Set gamma explicitly to 'auto' or 'scale' to avoid this warning.\n",
      "  \"avoid this warning.\", FutureWarning)\n"
     ]
    },
    {
     "name": "stdout",
     "output_type": "stream",
     "text": [
      "Accuracy: 0.172693, Error: 14.971505\n",
      "svm-NuSVR\n",
      "Accuracy: 0.194917, Error: 14.785943\n",
      "RandomForest\n"
     ]
    },
    {
     "name": "stderr",
     "output_type": "stream",
     "text": [
      "C:\\Users\\Srividya\\Anaconda3\\lib\\site-packages\\sklearn\\ensemble\\forest.py:245: FutureWarning: The default value of n_estimators will change from 10 in version 0.20 to 100 in 0.22.\n",
      "  \"10 in version 0.20 to 100 in 0.22.\", FutureWarning)\n"
     ]
    },
    {
     "name": "stdout",
     "output_type": "stream",
     "text": [
      "Accuracy: 0.122546, Error: 15.250510\n",
      "KNeighbors\n",
      "Accuracy: 0.028068, Error: 15.942310\n",
      "DecisionTree\n",
      "Accuracy: -0.640662, Error: 20.785781\n",
      "ExtraTree\n",
      "Accuracy: -0.689152, Error: 21.053302\n",
      "GaussianProcess\n",
      "Accuracy: -6.584386, Error: 123.601853\n"
     ]
    }
   ],
   "source": [
    "for value in models:\n",
    "    _=run_models(x_train, y_train, x_cv, y_cv, models[value](), label=value)"
   ]
  },
  {
   "cell_type": "code",
   "execution_count": 125,
   "metadata": {},
   "outputs": [],
   "source": [
    "#data['cc_cons_qtr'] = data['cc_cons_apr'] + data['cc_cons_may'] + data['cc_cons_jun']\n",
    "# data['cc_count_qtr'] = data['cc_count_apr'] + data['cc_count_may'] + data['cc_count_jun']\n",
    "# data['credit_amount_qtr'] = data['credit_amount_apr'] + data['credit_amount_may'] + data['credit_amount_jun']\n",
    "# data['credit_count_qtr'] = data['credit_count_apr'] + data['credit_count_may'] + data['credit_count_jun']\n",
    "# data['dc_cons_qtr'] = data['dc_cons_apr'] + data['dc_cons_may'] + data['dc_cons_jun']\n",
    "# data['dc_count_qtr'] = data['dc_count_apr'] + data['dc_count_may'] + data['dc_count_jun']\n",
    "# data['debit_amount_qtr'] = data['debit_amount_apr'] + data['debit_amount_may'] + data['debit_amount_jun']\n",
    "# data['debit_count_qtr'] = data['debit_count_apr'] + data['debit_count_may'] + data['debit_count_jun']\n",
    "# data['investment'] = data['investment_1'] + data['investment_2'] + data['investment_3'] + data['investment_4']"
   ]
  },
  {
   "cell_type": "code",
   "execution_count": 126,
   "metadata": {},
   "outputs": [],
   "source": [
    "#data = data.drop(['cc_count_apr','cc_count_may','cc_count_jun'],axis=1)"
   ]
  },
  {
   "cell_type": "code",
   "execution_count": 127,
   "metadata": {},
   "outputs": [],
   "source": [
    "# data = data.drop(['credit_amount_apr','credit_amount_may','credit_amount_jun','credit_count_apr','credit_count_may'],axis=1)\n",
    "# data = data.drop(['dc_cons_apr','dc_cons_may','dc_cons_jun','dc_count_apr','dc_count_may','dc_count_jun'],axis=1)\n",
    "# data = data.drop(['debit_amount_apr','debit_amount_may','debit_amount_jun','debit_count_apr','debit_count_may','debit_count_jun'],axis=1)\n",
    "# data = data.drop(['investment_1','investment_2','investment_3','investment_4'],axis=1)"
   ]
  },
  {
   "cell_type": "code",
   "execution_count": 86,
   "metadata": {},
   "outputs": [],
   "source": []
  },
  {
   "cell_type": "code",
   "execution_count": null,
   "metadata": {},
   "outputs": [],
   "source": []
  },
  {
   "cell_type": "code",
   "execution_count": 79,
   "metadata": {},
   "outputs": [],
   "source": [
    "# #apply SelectKBest class to extract top 10 best features\n",
    "# bestfeatures = SelectKBest(score_func=chi2, k=20)\n",
    "# fit = bestfeatures.fit(x_train,y_train)\n",
    "# dfscores = pd.DataFrame(fit.scores_)\n",
    "# dfcolumns = pd.DataFrame(x_train.columns)\n",
    "# #concat two dataframes for better visualization \n",
    "# featureScores = pd.concat([dfcolumns,dfscores],axis=1)\n",
    "# featureScores.columns = ['Specs','Score']  #naming the dataframe columns\n",
    "# print(featureScores.nlargest(20,'Score'))  #print 10 best features"
   ]
  },
  {
   "cell_type": "code",
   "execution_count": 65,
   "metadata": {},
   "outputs": [],
   "source": []
  },
  {
   "cell_type": "code",
   "execution_count": 67,
   "metadata": {},
   "outputs": [],
   "source": [
    "# from sklearn.linear_model import LinearRegression\n",
    "# from sklearn.metrics import mean_squared_log_error\n",
    "# model = LinearRegression()\n",
    "# model.fit(x_train,y_train)\n",
    "# pred_cv = model.predict(x_cv)\n",
    "# #print(np.sqrt(mean_squared_log_error(y_cv, pred_cv)))\n",
    "\n",
    "# pred_test = model.predict(test)\n",
    "# submission = pd.DataFrame({\n",
    "#         \"id\": test_data_orig['id'],\n",
    "#         \"cc_cons\": pred_test\n",
    "#     })\n",
    "# submission.to_csv('C:/Python/AmExpert/data/LinReg_submission.csv', index=False)"
   ]
  },
  {
   "cell_type": "code",
   "execution_count": 148,
   "metadata": {},
   "outputs": [
    {
     "name": "stdout",
     "output_type": "stream",
     "text": [
      "11.758366369747195\n"
     ]
    }
   ],
   "source": [
    "from sklearn.ensemble import RandomForestRegressor\n",
    "rf = RandomForestRegressor(n_estimators=225,max_features=25,max_depth=15,min_samples_leaf=15)\n",
    "rf.fit(x_train,y_train)\n",
    "pred_cv = rf.predict(x_cv)\n",
    "print(np.sqrt(mean_squared_log_error(np.exp(y_cv)-1, np.exp(pred_cv)-1)*100))\n",
    "# pred_test = model.predict(test)\n",
    "# print(model.feature_importances_)\n",
    "# submission = pd.DataFrame({\n",
    "#         \"id\": test_data_orig['id'],\n",
    "#         \"cc_cons\": np.exp(pred_test)-1\n",
    "#     })\n",
    "# submission.to_csv('C:/Python/AmExpert/data/RF_submission.csv', index=False)"
   ]
  },
  {
   "cell_type": "code",
   "execution_count": null,
   "metadata": {},
   "outputs": [],
   "source": [
    "#11.7713188392922 RandomForestRegressor(n_estimators=225,max_features=25,max_depth=10,min_samples_leaf=15)\n",
    "#11.784481999052865 RandomForestRegressor(n_estimators=225,max_features=25,max_depth=10)"
   ]
  },
  {
   "cell_type": "code",
   "execution_count": 150,
   "metadata": {},
   "outputs": [
    {
     "name": "stdout",
     "output_type": "stream",
     "text": [
      "11.811843095848337\n"
     ]
    }
   ],
   "source": [
    "nusvr = NuSVR(gamma='auto',nu=0.5,C=0.6)\n",
    "nusvr.fit(X=x_train,y=y_train)\n",
    "pred_cv = nusvr.predict(x_cv)\n",
    "print(np.sqrt(mean_squared_log_error(np.exp(y_cv)-1, np.exp(pred_cv)-1)*100))\n",
    "# pred_test = nusvr.predict(test)\n",
    "# submission = pd.DataFrame({\n",
    "#         \"id\": test_data_orig['id'],\n",
    "#         \"cc_cons\": np.exp(pred_test)-1\n",
    "#     })\n",
    "# submission.to_csv('C:/Python/AmExpert/data/NuSVR_submission.csv', index=False)"
   ]
  },
  {
   "cell_type": "code",
   "execution_count": 102,
   "metadata": {},
   "outputs": [],
   "source": [
    "from sklearn.feature_selection import SelectFromModel"
   ]
  },
  {
   "cell_type": "code",
   "execution_count": 99,
   "metadata": {},
   "outputs": [],
   "source": [
    "\n",
    "\n",
    "#11.817941233131648  NuSVR(gamma='auto',nu=0.5,C=0.8)\n",
    "#11.825826819261177  NuSVR(gamma='auto',nu=0.5)\n",
    "#11.821349644879135  NuSVR(gamma='auto',nu=0.5,C=0.9)"
   ]
  },
  {
   "cell_type": "code",
   "execution_count": 103,
   "metadata": {},
   "outputs": [
    {
     "name": "stdout",
     "output_type": "stream",
     "text": [
      "12.34625559545349\n"
     ]
    }
   ],
   "source": [
    "from sklearn.ensemble import AdaBoostRegressor\n",
    "ada = AdaBoostRegressor(base_estimator=model)\n",
    "ada.fit(x_train,y_train)\n",
    "pred_cv = ada.predict(x_cv)\n",
    "print(np.sqrt(mean_squared_log_error(np.exp(y_cv)-1, np.exp(pred_cv)-1)*100))\n",
    "pred_test = model.predict(test)\n",
    "#print(ada.feature_importances_)\n",
    "submission = pd.DataFrame({\n",
    "        \"id\": test_data_orig['id'],\n",
    "        \"cc_cons\": np.exp(pred_test)-1\n",
    "    })\n",
    "submission.to_csv('C:/Python/AmExpert/data/RF_submission.csv', index=False)"
   ]
  },
  {
   "cell_type": "code",
   "execution_count": 104,
   "metadata": {},
   "outputs": [],
   "source": [
    "from sklearn.linear_model import Ridge\n",
    "from sklearn.linear_model import Lasso"
   ]
  },
  {
   "cell_type": "code",
   "execution_count": 105,
   "metadata": {},
   "outputs": [
    {
     "name": "stdout",
     "output_type": "stream",
     "text": [
      "11.925359294273207\n"
     ]
    }
   ],
   "source": [
    "lr = LinearRegression()\n",
    "lr.fit(x_train,y_train)\n",
    "\n",
    "pred_cv = lr.predict(x_cv)\n",
    "print(np.sqrt(mean_squared_log_error(np.exp(y_cv)-1, np.exp(pred_cv)-1)*100))"
   ]
  },
  {
   "cell_type": "code",
   "execution_count": 165,
   "metadata": {},
   "outputs": [
    {
     "name": "stdout",
     "output_type": "stream",
     "text": [
      "11.921757238381696\n"
     ]
    }
   ],
   "source": [
    "ridge = Ridge(alpha = 200)\n",
    "ridge.fit(x_train,y_train)\n",
    "\n",
    "pred_cv = ridge.predict(x_cv)\n",
    "print(np.sqrt(mean_squared_log_error(np.exp(y_cv)-1, np.exp(pred_cv)-1)*100))"
   ]
  },
  {
   "cell_type": "code",
   "execution_count": 154,
   "metadata": {},
   "outputs": [
    {
     "name": "stdout",
     "output_type": "stream",
     "text": [
      "11.915865377831832\n"
     ]
    }
   ],
   "source": [
    "lasso = Lasso(alpha=0.01)\n",
    "lasso.fit(x_train,y_train)\n",
    "\n",
    "pred_cv = lasso.predict(x_cv)\n",
    "print(np.sqrt(mean_squared_log_error(np.exp(y_cv)-1, np.exp(pred_cv)-1)*100))"
   ]
  },
  {
   "cell_type": "code",
   "execution_count": 144,
   "metadata": {},
   "outputs": [],
   "source": [
    "# Blend models in order to make the final predictions more robust to overfitting\n",
    "def blended_predictions(X):\n",
    "    return (( 0.1 * ridge.predict(X)) + \\\n",
    "            ( 0.13 * lasso.predict(X)) + \\\n",
    "            ( 0.22 * lr.predict(X)) + \\\n",
    "            ( 0.35 * rf.predict(X)) + \\\n",
    "            ( 0.20 * nusvr.predict(X)))\n",
    "           "
   ]
  },
  {
   "cell_type": "code",
   "execution_count": 166,
   "metadata": {},
   "outputs": [
    {
     "name": "stdout",
     "output_type": "stream",
     "text": [
      "RMSLE score on train data:\n",
      "11.752547911998462\n"
     ]
    }
   ],
   "source": [
    "# Get final precitions from the blended model\n",
    "\n",
    "print('RMSLE score on train data:')\n",
    "print(np.sqrt(mean_squared_log_error(np.exp(y_cv)-1, np.exp(blended_predictions(x_cv))-1)*100))"
   ]
  },
  {
   "cell_type": "code",
   "execution_count": 168,
   "metadata": {},
   "outputs": [],
   "source": [
    "pred_test = blended_predictions(test)"
   ]
  },
  {
   "cell_type": "code",
   "execution_count": 171,
   "metadata": {},
   "outputs": [],
   "source": [
    "submission = pd.DataFrame({\n",
    "        \"id\": test_data_orig['id'],\n",
    "        \"cc_cons\": pred_test\n",
    "    })\n",
    "submission.to_csv('C:/Python/AmExpert/data/Blended_submission.csv', index=False)"
   ]
  },
  {
   "cell_type": "code",
   "execution_count": null,
   "metadata": {},
   "outputs": [],
   "source": []
  }
 ],
 "metadata": {
  "kernelspec": {
   "display_name": "Python 3",
   "language": "python",
   "name": "python3"
  },
  "language_info": {
   "codemirror_mode": {
    "name": "ipython",
    "version": 3
   },
   "file_extension": ".py",
   "mimetype": "text/x-python",
   "name": "python",
   "nbconvert_exporter": "python",
   "pygments_lexer": "ipython3",
   "version": "3.7.3"
  }
 },
 "nbformat": 4,
 "nbformat_minor": 2
}
